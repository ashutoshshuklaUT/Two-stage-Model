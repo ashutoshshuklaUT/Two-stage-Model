{
 "cells": [
  {
   "cell_type": "code",
   "execution_count": 1,
   "id": "6da82410-7aa1-4e3b-9d34-e4983fc7beb2",
   "metadata": {},
   "outputs": [],
   "source": [
    "n_scenario = 16\n",
    "\n",
    "num_scenario = '/' + str(n_scenario) + '_Scenario/'\n",
    "dir_name = 'sm_' + str(n_scenario) +'/'\n",
    "\n",
    "import os\n",
    "import yaml\n",
    "import json\n",
    "import shutil\n",
    "import numpy as np\n",
    "from gurobipy import GRB\n",
    "from utils import prepare_input\n",
    "from main_model import two_stage_model"
   ]
  },
  {
   "cell_type": "code",
   "execution_count": null,
   "id": "a602bb6c-9155-4acc-a7f0-51ad014cfe58",
   "metadata": {},
   "outputs": [],
   "source": [
    "with open(r'config.yaml') as file:\n",
    "    model_params = yaml.load(file, Loader=yaml.FullLoader)\n",
    "\n",
    "model_params[\"path_to_input\"] = os.path.dirname(os.getcwd()) + '/Data/fixed_reduced_grid' + num_scenario\n",
    "model_params[\"path_to_output\"] = os.getcwd() + \"/output/\" + dir_name\n",
    "\n",
    "if os.path.exists(model_params[\"path_to_output\"]):\n",
    "    shutil.rmtree(model_params[\"path_to_output\"], ignore_errors=True)\n",
    "os.mkdir(model_params[\"path_to_output\"])\n",
    "model_params[\"input1\"], model_params[\"input2\"] = prepare_input(model_params[\"path_to_input\"])\n",
    "\n",
    "print(\"MIP-Gap: \", model_params[\"mip_gap\"])\n",
    "print(\"Time Limit: \", model_params[\"time_limit\"])\n",
    "print(\"Robust Model: \", model_params[\"robust_flag\"])\n",
    "print(\"Flexible Generation: \", model_params[\"flexible_generation\"])\n",
    "print(\"Objective Type:\\t\", model_params[\"set_objective\"], \"\\n\")\n",
    "print(\"Solver Method:\\t\", model_params[\"solver_method\"], \"\\n\")"
   ]
  },
  {
   "cell_type": "markdown",
   "id": "7e42a580-f852-4ecf-a396-2485dbc3e970",
   "metadata": {},
   "source": [
    "## Changes"
   ]
  },
  {
   "cell_type": "code",
   "execution_count": null,
   "id": "a2f63279-dfc3-476f-836f-e68a854ad4a6",
   "metadata": {},
   "outputs": [],
   "source": [
    "%%time\n",
    "budget_vector = [0,10,20,30,40,50,60,70,80,85.625]\n",
    "base_model = two_stage_model(model_params)"
   ]
  },
  {
   "cell_type": "markdown",
   "id": "e05c7176-7bee-4956-882a-9d2c4d136918",
   "metadata": {},
   "source": [
    "### Model Run"
   ]
  },
  {
   "cell_type": "code",
   "execution_count": null,
   "id": "7bbf39ef-d18d-4e4b-85b0-b3fad6dc943f",
   "metadata": {
    "tags": []
   },
   "outputs": [],
   "source": [
    "for budget in budget_vector:\n",
    "    base_model.budget_ref.rhs = budget*1e6\n",
    "    base_model.model.setParam(\"LogFile\", model_params[\"path_to_output\"] + str(budget) + \"M\")\n",
    "    base_model.model.setParam(\"MIPGap\", model_params[\"mip_gap\"])\n",
    "    base_model.model.setParam(\"TimeLimit\", model_params[\"time_limit\"])\n",
    "    base_model.model.setParam(\"Method\", model_params[\"solver_method\"])\n",
    "    base_model.model.optimize()\n",
    "    base_model.model.write(model_params[\"path_to_output\"] + str(budget) + \"M_\" + \"solution.sol\")    \n",
    "    print(\"\\n\\n*********************************************\")\n",
    "    print(\"*********************************************\\n\\n\")\n",
    "    \n",
    "    # budget_solution[budget][\"objective_value\"] = base_model.model.ObjVal\n",
    "    # for i in base_model.x.keys():\n",
    "    #     budget_solution[budget]['substation_' + str(i)] = base_model.x[i].X"
   ]
  },
  {
   "cell_type": "markdown",
   "id": "4b7cf99a-bac8-490b-80f0-82c493f90e47",
   "metadata": {},
   "source": [
    "### Write Solutions"
   ]
  },
  {
   "cell_type": "code",
   "execution_count": null,
   "id": "17829c81-0569-4a04-8083-e57444455054",
   "metadata": {},
   "outputs": [],
   "source": [
    "with open(model_params[\"path_to_output\"] + 'model_params.json', 'w') as fp:\n",
    "    del model_params[\"input1\"]\n",
    "    del model_params[\"input2\"]\n",
    "    json.dump(model_params, fp)\n",
    "    \n",
    "# with open(model_params[\"path_to_output\"] + 'budget_solution.json', 'w') as fp:\n",
    "#     json.dump(budget_solution, fp)"
   ]
  },
  {
   "cell_type": "markdown",
   "id": "c33b16aa-9f18-467f-ab82-cabcb91af116",
   "metadata": {},
   "source": [
    "### Minimum budget needed to satisfy entire demand"
   ]
  },
  {
   "cell_type": "code",
   "execution_count": 2,
   "id": "177ffb32-2631-40c8-87a0-41c41744a56b",
   "metadata": {},
   "outputs": [],
   "source": [
    "with open(r'config.yaml') as file:\n",
    "    model_params = yaml.load(file, Loader=yaml.FullLoader)\n",
    "\n",
    "model_params[\"path_to_input\"] = os.path.dirname(os.getcwd()) + '/Data/fixed_reduced_grid' + num_scenario\n",
    "model_params[\"path_to_output\"] = os.getcwd() + \"/output/\" + dir_name\n",
    "\n",
    "model_params[\"input1\"], model_params[\"input2\"] = prepare_input(model_params[\"path_to_input\"])"
   ]
  },
  {
   "cell_type": "code",
   "execution_count": 3,
   "id": "32895714-c574-45ab-8362-0645575a423f",
   "metadata": {},
   "outputs": [],
   "source": [
    "# For computing zero load shed for mean scenario\n",
    "\n",
    "model_params[\"mip_gap\"] = 0\n",
    "# mean_scenario = np.ceil(model_params[\"input1\"].iloc[:,9:].mean(axis=1))\n",
    "\n",
    "# for i in model_params[\"input1\"].columns:\n",
    "#     if \"max_flood\" in i:\n",
    "#         model_params[\"input1\"].drop(i, axis=1, inplace=True)\n",
    "\n",
    "# model_params[\"input1\"][\"max_flood\"] = mean_scenario"
   ]
  },
  {
   "cell_type": "code",
   "execution_count": 4,
   "id": "3380ac22-d2e9-4993-b632-d473bcc28ebf",
   "metadata": {},
   "outputs": [
    {
     "name": "stdout",
     "output_type": "stream",
     "text": [
      "Set parameter Username\n",
      "\n",
      "--------------------------------------------\n",
      "Warning: your license will expire in 9 days\n",
      "--------------------------------------------\n",
      "\n",
      "Academic license - for non-commercial use only - expires 2022-11-26\n",
      "Number of Scenarios: 16\n",
      "Set parameter MIPGap to value 0\n",
      "Set parameter TimeLimit to value 21600\n",
      "Set parameter Method to value 2\n",
      "MIP-Gap:  0\n",
      "Time Limit:  21600\n",
      "Robust Model:  False\n",
      "Flexible Generation:  True\n",
      "Objective Type:\t min \n",
      "\n",
      "Gurobi Optimizer version 9.5.0 build v9.5.0rc5 (mac64[rosetta2])\n",
      "Thread count: 10 physical cores, 10 logical processors, using up to 10 threads\n",
      "Optimize a model with 211802 rows, 77908 columns and 583748 nonzeros\n",
      "Model fingerprint: 0x713b8915\n",
      "Variable types: 55968 continuous, 21940 integer (21578 binary)\n",
      "Coefficient statistics:\n",
      "  Matrix range     [4e-03, 9e+03]\n",
      "  Objective range  [2e+04, 1e+05]\n",
      "  Bounds range     [1e+00, 3e+00]\n",
      "  RHS range        [1e-03, 2e+04]\n",
      "Presolve removed 190918 rows and 59934 columns\n",
      "Presolve time: 2.36s\n",
      "Presolved: 20884 rows, 17974 columns, 80816 nonzeros\n",
      "Variable types: 14751 continuous, 3223 integer (3215 binary)\n",
      "Root barrier log...\n",
      "\n",
      "Ordering time: 0.01s\n",
      "\n",
      "Barrier statistics:\n",
      " Dense cols : 21\n",
      " AA' NZ     : 1.375e+05\n",
      " Factor NZ  : 6.840e+05 (roughly 17 MB of memory)\n",
      " Factor Ops : 5.054e+07 (less than 1 second per iteration)\n",
      " Threads    : 9\n",
      "\n",
      "                  Objective                Residual\n",
      "Iter       Primal          Dual         Primal    Dual     Compl     Time\n",
      "   0   2.02567981e+08 -5.38103893e+10  4.58e+02 6.37e+04  2.04e+07     3s\n",
      "   1   1.14358008e+08 -4.27035585e+10  1.52e+02 8.93e+04  7.10e+06     3s\n",
      "   2   7.34099633e+07 -1.94384781e+10  7.47e+00 4.10e-09  8.29e+05     3s\n",
      "   3   7.21066153e+07 -2.53966844e+09  1.55e+00 2.04e-09  9.69e+04     3s\n",
      "   4   7.19045429e+07 -3.07601352e+08  1.81e-01 3.73e-09  1.26e+04     3s\n",
      "   5   7.14685156e+07 -3.33071633e+07  3.73e-02 1.05e-09  3.35e+03     3s\n",
      "   6   7.09373463e+07  3.40781052e+07  1.13e-02 4.07e-10  1.17e+03     3s\n",
      "   7   7.04155703e+07  5.62383391e+07  3.36e-03 1.60e-10  4.48e+02     3s\n",
      "   8   7.02197625e+07  6.30789378e+07  1.94e-03 1.16e-10  2.25e+02     3s\n",
      "   9   7.00349083e+07  6.63395641e+07  8.30e-04 1.16e-10  1.17e+02     3s\n",
      "  10   6.99655470e+07  6.83154464e+07  4.75e-04 2.29e-10  5.21e+01     3s\n",
      "  11   6.99090940e+07  6.88560236e+07  2.53e-04 3.16e-10  3.32e+01     3s\n",
      "  12   6.98954225e+07  6.92523509e+07  1.83e-04 3.66e-10  2.03e+01     3s\n",
      "  13   6.98738074e+07  6.95968585e+07  9.72e-05 1.71e-10  8.74e+00     3s\n",
      "  14   6.98663422e+07  6.96923210e+07  6.62e-05 1.33e-10  5.49e+00     3s\n",
      "  15   6.98550474e+07  6.98007159e+07  1.88e-05 2.40e-10  1.71e+00     3s\n",
      "  16   6.98510102e+07  6.98359610e+07  2.43e-06 4.78e-10  4.75e-01     3s\n",
      "  17   6.98504110e+07  6.98460345e+07  4.93e-07 1.95e-10  1.38e-01     3s\n",
      "  18   6.98503159e+07  6.98475413e+07  2.41e-07 2.33e-10  8.75e-02     3s\n",
      "  19   6.98502757e+07  6.98487464e+07  1.39e-07 1.56e-10  4.82e-02     3s\n",
      "  20   6.98502475e+07  6.98493556e+07  1.56e-07 1.10e-10  2.81e-02     3s\n",
      "  21   6.98502378e+07  6.98498062e+07  1.51e-07 2.33e-10  1.36e-02     3s\n",
      "  22   6.98502275e+07  6.98500395e+07  1.16e-07 1.16e-10  5.93e-03     3s\n",
      "  23   6.98502190e+07  6.98501940e+07  5.43e-08 5.82e-11  7.89e-04     3s\n",
      "  24   6.98502186e+07  6.98502186e+07  1.29e-08 3.49e-10  1.51e-06     3s\n",
      "  25   6.98502186e+07  6.98502186e+07  1.29e-11 2.33e-10  1.52e-09     4s\n",
      "\n",
      "Barrier solved model in 25 iterations and 3.52 seconds (2.39 work units)\n",
      "Optimal objective 6.98502186e+07\n",
      "\n",
      "\n",
      "Root relaxation: objective 6.985022e+07, 1812 iterations, 1.30 seconds (0.77 work units)\n",
      "Total elapsed time = 5.41s\n",
      "\n",
      "    Nodes    |    Current Node    |     Objective Bounds      |     Work\n",
      " Expl Unexpl |  Obj  Depth IntInf | Incumbent    BestBd   Gap | It/Node Time\n",
      "\n",
      "     0     0 6.9850e+07    0   40          - 6.9850e+07      -     -    5s\n",
      "     0     0 7.0678e+07    0   67          - 7.0678e+07      -     -    7s\n",
      "     0     0 7.1050e+07    0   66          - 7.1050e+07      -     -    8s\n",
      "     0     0 7.1050e+07    0   65          - 7.1050e+07      -     -    8s\n",
      "     0     0 7.1050e+07    0   70          - 7.1050e+07      -     -    8s\n",
      "     0     0 7.1050e+07    0   79          - 7.1050e+07      -     -    9s\n",
      "     0     0 7.1050e+07    0   94          - 7.1050e+07      -     -    9s\n",
      "     0     0 7.1050e+07    0   71          - 7.1050e+07      -     -   16s\n",
      "     0     0 7.1050e+07    0   72          - 7.1050e+07      -     -   16s\n",
      "     0     0 7.1050e+07    0   65          - 7.1050e+07      -     -   18s\n",
      "     0     0 7.1150e+07    0   66          - 7.1150e+07      -     -   18s\n",
      "     0     0 7.1150e+07    0   60          - 7.1150e+07      -     -   19s\n",
      "H    0     0                    7.135000e+07 7.1250e+07  0.14%     -   19s\n",
      "     0     0 7.1350e+07    0   90 7.1350e+07 7.1350e+07  0.00%     -   19s\n",
      "\n",
      "Cutting planes:\n",
      "  Learned: 2\n",
      "  Gomory: 3\n",
      "  Cover: 10\n",
      "  Implied bound: 60\n",
      "  Clique: 5\n",
      "  MIR: 83\n",
      "  Flow cover: 10\n",
      "  RLT: 1\n",
      "  Relax-and-lift: 35\n",
      "  BQP: 1\n",
      "\n",
      "Explored 1 nodes (15481 simplex iterations) in 19.72 seconds (15.09 work units)\n",
      "Thread count was 10 (of 10 available processors)\n",
      "\n",
      "Solution count 1: 7.135e+07 \n",
      "\n",
      "Optimal solution found (tolerance 0.00e+00)\n",
      "Best objective 7.135000000000e+07, best bound 7.135000000000e+07, gap 0.0000%\n",
      "CPU times: user 56.9 s, sys: 4.07 s, total: 1min\n",
      "Wall time: 28.9 s\n"
     ]
    }
   ],
   "source": [
    "%%time\n",
    "\n",
    "base_model = two_stage_model(model_params)\n",
    "print(\"Number of Scenarios:\", base_model.n_scenarios)\n",
    "\n",
    "# Turn the budget constraint from hard to soft\n",
    "base_model.model.remove(base_model.budget_ref)\n",
    "base_model.model.setObjective(base_model.fc*base_model.y.sum() + \n",
    "                              model_params[\"mit_coarse\"]*base_model.vc*base_model.x.sum(), GRB.MINIMIZE)\n",
    "\n",
    "# Turn demand satisified constraint from inequality to equality\n",
    "base_model.model.remove(base_model.supply_demand_constraint_reference)\n",
    "base_model.model.addConstrs(base_model.s[i,j] == base_model.input1.values[i,8] \n",
    "                            for i in range(base_model.n_buses) for j in range(base_model.n_scenarios))\n",
    "\n",
    "# Model run parameters\n",
    "base_model.model.setParam(\"MIPGap\", model_params[\"mip_gap\"])\n",
    "base_model.model.setParam(\"TimeLimit\", model_params[\"time_limit\"])\n",
    "base_model.model.setParam(\"Method\", model_params[\"solver_method\"])\n",
    "\n",
    "print(\"MIP-Gap: \", model_params[\"mip_gap\"])\n",
    "print(\"Time Limit: \", model_params[\"time_limit\"])\n",
    "print(\"Robust Model: \", model_params[\"robust_flag\"])\n",
    "print(\"Flexible Generation: \", model_params[\"flexible_generation\"])\n",
    "print(\"Objective Type:\\t\", model_params[\"set_objective\"], \"\\n\")\n",
    "\n",
    "base_model.model.optimize()\n"
   ]
  },
  {
   "cell_type": "code",
   "execution_count": null,
   "id": "ea322511-3aec-459a-8df5-1709bbf31249",
   "metadata": {},
   "outputs": [],
   "source": [
    "counter = 0\n",
    "\n",
    "for i in model_params[\"input1\"][\"SubNum\"].unique():\n",
    "    if base_model.x[i].X > 0:\n",
    "        counter = counter + 1"
   ]
  },
  {
   "cell_type": "code",
   "execution_count": null,
   "id": "20321e0c-2aa2-43f4-a042-a0d55216e8f7",
   "metadata": {},
   "outputs": [],
   "source": [
    "counter"
   ]
  },
  {
   "cell_type": "code",
   "execution_count": null,
   "id": "f09be815-5e81-48a2-b08e-fddc6333f8f2",
   "metadata": {},
   "outputs": [],
   "source": []
  }
 ],
 "metadata": {
  "kernelspec": {
   "display_name": "Python 3 (ipykernel)",
   "language": "python",
   "name": "python3"
  },
  "language_info": {
   "codemirror_mode": {
    "name": "ipython",
    "version": 3
   },
   "file_extension": ".py",
   "mimetype": "text/x-python",
   "name": "python",
   "nbconvert_exporter": "python",
   "pygments_lexer": "ipython3",
   "version": "3.9.9"
  }
 },
 "nbformat": 4,
 "nbformat_minor": 5
}

{
 "cells": [
  {
   "cell_type": "markdown",
   "id": "a2f194d2-8240-4917-9fa5-f3d75207ae8f",
   "metadata": {},
   "source": [
    "This file is used to fix the Input Files to reflect the same values as in Brent files.\n",
    "Differences highlighted by Brent:\n",
    "\n",
    "**Overall, only 4 differences.**\n",
    "* The issue with your calculated aggregate bus load when there are multiple loads per bus.\n",
    "* Your power values are not p.u. (But susceptance is in p.u.)\n",
    "* Your column BR_X is actually the inverse of reactance. Just note that susceptance is the negative inverse of reactance. (If you are using this column as-is as the susceptance, then all of your bus voltage phase angles will end up being the negative of what they should be in the DC model.)\n",
    "* You are using a much smaller flow limit (400) than me (10000) for the artificial lines. I doubt this matters much if at all."
   ]
  },
  {
   "cell_type": "code",
   "execution_count": 18,
   "id": "fd38e663-edee-45cf-b7fe-3bc343679c3b",
   "metadata": {},
   "outputs": [],
   "source": [
    "import numpy as np\n",
    "import pandas as pd\n",
    "pd.set_option('display.max_rows', 500)\n",
    "pd.set_option('display.max_columns', 500)"
   ]
  },
  {
   "cell_type": "markdown",
   "id": "f737b11b-9348-4ee6-93c7-c82ed1a8965a",
   "metadata": {},
   "source": [
    "### Raw Input Files from PSSE Reduction"
   ]
  },
  {
   "cell_type": "code",
   "execution_count": 19,
   "id": "e13d9989-1454-418c-b9df-02c77c79793c",
   "metadata": {
    "tags": []
   },
   "outputs": [
    {
     "data": {
      "text/plain": [
       "Bus  Number    2707207.00\n",
       "Pload (MW)       39152.86\n",
       "dtype: float64"
      ]
     },
     "execution_count": 19,
     "metadata": {},
     "output_type": "execute_result"
    }
   ],
   "source": [
    "main_df = pd.read_csv(\"/Users/ashutoshshukla/Desktop/Data/Raw_Reduced_Grid_Data/load.csv\").dropna(thresh=10)\n",
    "main_df = main_df[['Bus  Number', 'Pload (MW)']]\n",
    "main_df[\"Bus  Number\"] = main_df[\"Bus  Number\"].astype('int')\n",
    "main_df.head()\n",
    "main_df.sum()"
   ]
  },
  {
   "cell_type": "markdown",
   "id": "27a3e929-8fdb-438e-9fd0-3ed065b7f7a2",
   "metadata": {},
   "source": [
    "### Load Per Bus"
   ]
  },
  {
   "cell_type": "code",
   "execution_count": 20,
   "id": "decc72d6-e7fa-4975-889f-b54702cb7dc5",
   "metadata": {},
   "outputs": [],
   "source": [
    "load_info = {}\n",
    "load_list = main_df[\"Bus  Number\"].unique()\n",
    "for i in load_list:\n",
    "    temp = main_df[main_df[\"Bus  Number\"] == i].sum()[1]\n",
    "    if temp > 0:\n",
    "        load_info[i] = temp\n",
    "    else:\n",
    "        load_info[i] = 0\n",
    "        # This happens only for bus number 2057 where the load is negative. We add this much load\n",
    "        # here to make load at the bus 0 and we add same amount of load at generators min and max \n",
    "        # value for  bus 2057. Since this addition was already done in the previous dataset, \n",
    "        # I am not worrying about it here."
   ]
  },
  {
   "cell_type": "markdown",
   "id": "0a3d21da-b54e-4ea6-9c90-a84b77a42fed",
   "metadata": {},
   "source": [
    "# Aggregating Loads"
   ]
  },
  {
   "cell_type": "code",
   "execution_count": 25,
   "id": "3e06dcb5-a026-4483-a8e4-c50c8a9c1d02",
   "metadata": {},
   "outputs": [
    {
     "data": {
      "text/plain": [
       "39685.9633"
      ]
     },
     "execution_count": 25,
     "metadata": {},
     "output_type": "execute_result"
    }
   ],
   "source": [
    "df = pd.read_csv(\"/Users/ashutoshshukla/Desktop/Single_Year_Model/activs_data/reduced_grid/192_Scenario/Final_Input1.csv\")\n",
    "\n",
    "for i in range(len(df)):\n",
    "    bus = df.iloc[i,0]\n",
    "    if bus in load_info:\n",
    "        df.iloc[i,8] = load_info[bus]\n",
    "\n",
    "df[\"load\"].sum()"
   ]
  },
  {
   "cell_type": "code",
   "execution_count": 26,
   "id": "4eb042b0-30b0-4548-8fcf-9cc5a00be7e1",
   "metadata": {
    "tags": []
   },
   "outputs": [],
   "source": [
    "df.to_csv(\"/Users/ashutoshshukla/Desktop/Data/reduced_grid/192_Scenario/Final_Input1.csv\", index=None)"
   ]
  }
 ],
 "metadata": {
  "kernelspec": {
   "display_name": "Python 3 (ipykernel)",
   "language": "python",
   "name": "python3"
  },
  "language_info": {
   "codemirror_mode": {
    "name": "ipython",
    "version": 3
   },
   "file_extension": ".py",
   "mimetype": "text/x-python",
   "name": "python",
   "nbconvert_exporter": "python",
   "pygments_lexer": "ipython3",
   "version": "3.9.9"
  }
 },
 "nbformat": 4,
 "nbformat_minor": 5
}

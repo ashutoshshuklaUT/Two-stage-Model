{
 "cells": [
  {
   "cell_type": "code",
   "execution_count": 20,
   "id": "caf1fb1f-7fb5-453d-8a2c-364e216cb090",
   "metadata": {},
   "outputs": [],
   "source": [
    "import pandas as pd"
   ]
  },
  {
   "cell_type": "code",
   "execution_count": 21,
   "id": "2c8eb8d8-fd6d-4b44-9e9d-c72930ec7b57",
   "metadata": {},
   "outputs": [],
   "source": [
    "df = pd.read_csv(\"/Users/ashutoshshukla/Desktop/Data/fixed_reduced_grid/192_Scenario/Final_Input1.csv\")"
   ]
  },
  {
   "cell_type": "code",
   "execution_count": 22,
   "id": "74df6067-d7b5-45cb-b11a-b80be7f2a2b0",
   "metadata": {},
   "outputs": [],
   "source": [
    "lister = []\n",
    "directions = [\"w\", \"wnw\", \"nw\", \"nnw\"]\n",
    "category = [\"5\"]\n",
    "speed = [\"05\", \"10\", \"15\", \"25\"]\n",
    "for i in directions:\n",
    "    for j in category:\n",
    "        for k in speed:\n",
    "            lister.append(\"max_flood_level_\" + i + \"_\" + j + \"_\" + k)"
   ]
  },
  {
   "cell_type": "code",
   "execution_count": 23,
   "id": "5399b5c6-f16f-4dc4-9612-902575659daf",
   "metadata": {},
   "outputs": [],
   "source": [
    "for i in df.columns:\n",
    "    if \"max_flood\" in i:\n",
    "        if i not in lister:\n",
    "            df.drop(i, axis=1, inplace=True)"
   ]
  },
  {
   "cell_type": "code",
   "execution_count": 26,
   "id": "c9e1068d-e64f-4e27-9250-9f55075db7bf",
   "metadata": {},
   "outputs": [],
   "source": [
    "df.to_csv(\"/Users/ashutoshshukla/Desktop/Data/fixed_reduced_grid/16_Scenario/Final_Input1.csv\", index=None)"
   ]
  },
  {
   "cell_type": "code",
   "execution_count": null,
   "id": "a5408ab0-94ee-4164-9a57-1554ae071db6",
   "metadata": {},
   "outputs": [],
   "source": []
  }
 ],
 "metadata": {
  "kernelspec": {
   "display_name": "Python 3 (ipykernel)",
   "language": "python",
   "name": "python3"
  },
  "language_info": {
   "codemirror_mode": {
    "name": "ipython",
    "version": 3
   },
   "file_extension": ".py",
   "mimetype": "text/x-python",
   "name": "python",
   "nbconvert_exporter": "python",
   "pygments_lexer": "ipython3",
   "version": "3.9.9"
  }
 },
 "nbformat": 4,
 "nbformat_minor": 5
}

{
 "cells": [
  {
   "cell_type": "code",
   "execution_count": 1,
   "id": "45209e3a-e61e-490c-a00d-2bba2f8c4d69",
   "metadata": {},
   "outputs": [],
   "source": [
    "import os\n",
    "import sys\n",
    "import yaml\n",
    "import json\n",
    "import warnings\n",
    "import numpy as np\n",
    "import pandas as pd\n",
    "import gurobipy as gp\n",
    "from analysis import analysis\n",
    "import matplotlib.pyplot as plt\n",
    "pd.set_option('display.max_rows', None)"
   ]
  },
  {
   "cell_type": "code",
   "execution_count": 2,
   "id": "3bb060db-b83b-429e-94a9-4475874dcd02",
   "metadata": {},
   "outputs": [],
   "source": [
    "n_scenario = 16\n",
    "num_scenario = '/' + str(n_scenario) + '_Scenario/'\n",
    "sys.path.append(\"/Users/ashutoshshukla/Desktop/TwoStageModel/\")"
   ]
  },
  {
   "cell_type": "code",
   "execution_count": 3,
   "id": "bdc82ea4-6365-41dd-b247-1131b49e32a6",
   "metadata": {},
   "outputs": [],
   "source": [
    "from utils import prepare_input\n",
    "from main_model import two_stage_model\n",
    "\n",
    "pd.options.display.max_seq_items = 200\n",
    "pd.set_option('display.width', 100)\n",
    "pd.set_option('display.max_rows', 40)\n",
    "pd.set_option('display.max_columns', 50)\n",
    "warnings.filterwarnings(\"ignore\")\n",
    "\n",
    "%matplotlib inline"
   ]
  },
  {
   "cell_type": "code",
   "execution_count": 4,
   "id": "57d665bd-1d9b-4f23-8546-f3948b8ee074",
   "metadata": {},
   "outputs": [],
   "source": [
    "model_analysis = analysis(16,\"rm_\")"
   ]
  },
  {
   "cell_type": "code",
   "execution_count": 5,
   "id": "71871c40-1997-43a5-90ee-dd08e570284d",
   "metadata": {},
   "outputs": [
    {
     "name": "stdout",
     "output_type": "stream",
     "text": [
      "MIP-Gap:  0.005\n",
      "Time Limit:  21600\n",
      "Robust Model:  False\n",
      "Flexible Generation:  True\n",
      "Objective Type:\t min \n",
      "\n",
      "Solver Method:\t 2 \n",
      "\n"
     ]
    }
   ],
   "source": [
    "with open(r'../config.yaml') as file:\n",
    "    model_params = yaml.load(file, Loader=yaml.FullLoader)\n",
    "\n",
    "model_params[\"path_to_input\"] = '/Users/ashutoshshukla/Desktop/Data/fixed_reduced_grid' + num_scenario\n",
    "model_params[\"input1\"], model_params[\"input2\"] = prepare_input(model_params[\"path_to_input\"])\n",
    "\n",
    "print(\"MIP-Gap: \", model_params[\"mip_gap\"])\n",
    "print(\"Time Limit: \", model_params[\"time_limit\"])\n",
    "print(\"Robust Model: \", model_params[\"robust_flag\"])\n",
    "print(\"Flexible Generation: \", model_params[\"flexible_generation\"])\n",
    "print(\"Objective Type:\\t\", model_params[\"set_objective\"], \"\\n\")\n",
    "print(\"Solver Method:\\t\", model_params[\"solver_method\"], \"\\n\")"
   ]
  },
  {
   "cell_type": "code",
   "execution_count": 7,
   "id": "368dfafc-aa4f-4b81-be36-ad6045e8d925",
   "metadata": {},
   "outputs": [
    {
     "name": "stdout",
     "output_type": "stream",
     "text": [
      "0.0\n",
      "9.925\n",
      "19.925\n",
      "29.975\n",
      "39.975\n",
      "50.0\n",
      "59.95\n",
      "69.925\n",
      "72.45\n"
     ]
    }
   ],
   "source": [
    "for i in model_analysis.main_df.columns:\n",
    "    fix = 0\n",
    "    var = 0\n",
    "    \n",
    "    for j in model_analysis.base_model.unique_substations:\n",
    "        temp = model_analysis.main_df.loc[j,i]\n",
    "        \n",
    "        if temp > 0:\n",
    "            fix = fix + 1\n",
    "            var = var + temp\n",
    "        bud = 25000*fix + 100000*var\n",
    "    print(bud/1e6)"
   ]
  },
  {
   "cell_type": "code",
   "execution_count": null,
   "id": "128698b4-1f65-42eb-9cbf-d369e3b9d3fc",
   "metadata": {},
   "outputs": [],
   "source": [
    "budget_vector = [0,10,20,30,40,50,60,70,80]\n",
    "\n",
    "for budget in budget_vector:\n",
    "    print (budget)\n",
    "    print(\"\\n\\n*********************************************\")\n",
    "    print(\"*********************************************\\n\\n\")\n",
    "    \n",
    "    \n",
    "    base_model = two_stage_model(model_params)\n",
    "    base_model.budget_ref.rhs = budget*1e6\n",
    "    for i in model_analysis.base_model.unique_substations:\n",
    "        base_model.model.addConstr(base_model.x[i] == round(model_analysis.main_df.loc[i,budget]))\n",
    "    \n",
    "    base_model.model.setParam(\"MIPGap\", model_params[\"mip_gap\"])\n",
    "    base_model.model.setParam(\"TimeLimit\", model_params[\"time_limit\"])\n",
    "    base_model.model.setParam(\"Method\", model_params[\"solver_method\"])\n",
    "    base_model.model.optimize()\n",
    "    \n",
    "    print(\"\\n\\n*********************************************\")\n",
    "    print(\"*********************************************\\n\\n\")"
   ]
  },
  {
   "cell_type": "markdown",
   "id": "5d39068a-8391-4596-bfe7-760c93ce057c",
   "metadata": {},
   "source": [
    "# Wait and see and the robust bound"
   ]
  },
  {
   "cell_type": "code",
   "execution_count": 8,
   "id": "b41fbdc2-a388-49f1-b55d-206415a1720d",
   "metadata": {},
   "outputs": [],
   "source": [
    "df = pd.read_csv(os.path.dirname(os.getcwd()) + \"/output/sm_\" + str(n_scenario) + \"/stochastic_solution.csv\")\n",
    "stochastic_solution = {}\n",
    "\n",
    "for i in range(df.shape[0]):\n",
    "    stochastic_solution[df.iloc[i,0]] = df.iloc[i,1]"
   ]
  },
  {
   "cell_type": "code",
   "execution_count": 9,
   "id": "344c2a25-6bdd-46f8-b59c-d5ade95cd13a",
   "metadata": {},
   "outputs": [],
   "source": [
    "df_r = pd.read_csv(os.path.dirname(os.getcwd()) + \"/output/rm_\" + str(n_scenario) + \"/robust_solution.csv\")\n",
    "robust_solution = {}\n",
    "\n",
    "for i in range(df_r.shape[0]):\n",
    "    robust_solution[df_r.iloc[i,0]] = df_r.iloc[i,1]"
   ]
  },
  {
   "cell_type": "code",
   "execution_count": 10,
   "id": "ce8cf034-facc-4122-88fe-53b299604f75",
   "metadata": {},
   "outputs": [],
   "source": [
    "df_rb = pd.read_csv(os.path.dirname(os.getcwd()) + \"/output/rm_\" + str(n_scenario) + \"/robust_decisions_stochastic_solutions.csv\")\n",
    "robust_bound = {}\n",
    "\n",
    "for i in range(df_rb.shape[0]):\n",
    "    robust_bound[df_rb.iloc[i,0]] = df_rb.iloc[i,1]"
   ]
  },
  {
   "cell_type": "code",
   "execution_count": 11,
   "id": "1fae6b6b-7c0a-42ee-85aa-067e87d284b9",
   "metadata": {},
   "outputs": [],
   "source": [
    "import json\n",
    "with open('wait_and_see_dict.json', 'r') as openfile:\n",
    "    wait_and_see_dict = json.load(openfile)\n",
    "\n",
    "wait_and_see_bound = {}\n",
    "for i in wait_and_see_dict:\n",
    "    temp = 0\n",
    "    for j in wait_and_see_dict[i]:\n",
    "        temp = temp + wait_and_see_dict[i][j]\n",
    "    temp = temp/len(wait_and_see_dict[i])\n",
    "    wait_and_see_bound[i] = temp"
   ]
  },
  {
   "cell_type": "code",
   "execution_count": 12,
   "id": "32ad52b4-601c-470f-aa6a-4e1e0dacf75c",
   "metadata": {},
   "outputs": [],
   "source": [
    "budget_vector = [0,10,20,30,40,50,60,70,80]"
   ]
  },
  {
   "cell_type": "code",
   "execution_count": 23,
   "id": "88d3c175-6516-41f4-96a0-e7e5043c5a1f",
   "metadata": {},
   "outputs": [
    {
     "data": {
      "image/png": "[encoded data removed]",
      "text/plain": [
       "<Figure size 288x288 with 1 Axes>"
      ]
     },
     "metadata": {
      "needs_background": "light"
     },
     "output_type": "display_data"
    }
   ],
   "source": [
    "load = model_params[\"input1\"][\"load\"].sum()\n",
    "\n",
    "ss = [x/10 for x in list(stochastic_solution.values())]\n",
    "rs = [x/10 for x in list(robust_solution.values())]\n",
    "\n",
    "rb = [x/10 for x in list(robust_bound.values())]\n",
    "\n",
    "wsb = [x/10 for x in list(wait_and_see_bound.values())]\n",
    "\n",
    "plt.figure(figsize=(4,4))\n",
    "\n",
    "plt.plot(budget_vector, rs, marker='o', label = \"RO objective value\", color=\"#DC3220\")\n",
    "plt.plot(budget_vector, rb, marker='o', label = \"Robust solution\", color=\"#40B0A6\")\n",
    "plt.plot(budget_vector, ss, marker='o', label = \"Stochastic solution\", color=\"#0072b2\")\n",
    "plt.plot(budget_vector, wsb, marker='o', label = \"Wait-and-see solution\", color=\"#d55e00\")\n",
    "\n",
    "plt.xlabel(\"Budget in Millions ($)\", fontdict={'fontsize': 11})\n",
    "plt.ylabel(\"Load-shed (GW)\", fontdict={'fontsize': 11})\n",
    "plt.legend(loc=1, prop={'size': 11}, frameon=False)\n",
    "plt.ylim(-0.25,6)\n",
    "\n",
    "plt.savefig(os.path.dirname(os.getcwd()) + \"/Figures/robust_decision_bounds.eps\", format='eps')"
   ]
  },
  {
   "cell_type": "code",
   "execution_count": null,
   "id": "d0b29824-702d-4d68-ba31-50edba45b8f4",
   "metadata": {},
   "outputs": [],
   "source": []
  }
 ],
 "metadata": {
  "kernelspec": {
   "display_name": "Python 3 (ipykernel)",
   "language": "python",
   "name": "python3"
  },
  "language_info": {
   "codemirror_mode": {
    "name": "ipython",
    "version": 3
   },
   "file_extension": ".py",
   "mimetype": "text/x-python",
   "name": "python",
   "nbconvert_exporter": "python",
   "pygments_lexer": "ipython3",
   "version": "3.9.9"
  }
 },
 "nbformat": 4,
 "nbformat_minor": 5
}

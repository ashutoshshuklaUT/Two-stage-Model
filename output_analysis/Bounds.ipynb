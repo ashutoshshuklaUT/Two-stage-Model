{
 "cells": [
  {
   "cell_type": "code",
   "execution_count": 1,
   "metadata": {},
   "outputs": [],
   "source": [
    "n_scenario = 16\n",
    "budget_vector = [0,10,20,30,40,50,60,70,80]\n",
    "num_scenario = '/' + str(n_scenario) + '_Scenario/'\n",
    "\n",
    "import os\n",
    "import sys\n",
    "import yaml\n",
    "import json\n",
    "import warnings\n",
    "import numpy as np\n",
    "import pandas as pd\n",
    "import gurobipy as gp\n",
    "from tqdm import tqdm\n",
    "from IPython import embed\n",
    "import matplotlib.pyplot as plt\n",
    "from tqdm.contrib import itertools\n",
    "\n",
    "pd.set_option('display.max_rows', None)\n",
    "sys.path.append(\"/Users/ashutoshshukla/Desktop/TwoStageModel/\")\n",
    "\n",
    "from utils import prepare_input\n",
    "from main_model import two_stage_model\n",
    "\n",
    "pd.options.display.max_seq_items = 200\n",
    "pd.set_option('display.width', 100)\n",
    "pd.set_option('display.max_rows', 40)\n",
    "pd.set_option('display.max_columns', 50)\n",
    "warnings.filterwarnings(\"ignore\")\n",
    "\n",
    "%matplotlib inline"
   ]
  },
  {
   "cell_type": "code",
   "execution_count": 2,
   "metadata": {},
   "outputs": [
    {
     "name": "stdout",
     "output_type": "stream",
     "text": [
      "MIP-Gap:  0.005\n",
      "Time Limit:  21600\n",
      "Robust Model:  False\n",
      "Flexible Generation:  True\n",
      "Objective Type:\t min \n",
      "\n",
      "Solver Method:\t 2 \n",
      "\n"
     ]
    }
   ],
   "source": [
    "with open(r'../config.yaml') as file:\n",
    "    model_params = yaml.load(file, Loader=yaml.FullLoader)\n",
    "\n",
    "model_params[\"path_to_input\"] = '/Users/ashutoshshukla/Desktop/Data/fixed_reduced_grid' + num_scenario\n",
    "model_params[\"input1\"], model_params[\"input2\"] = prepare_input(model_params[\"path_to_input\"])\n",
    "\n",
    "print(\"MIP-Gap: \", model_params[\"mip_gap\"])\n",
    "print(\"Time Limit: \", model_params[\"time_limit\"])\n",
    "print(\"Robust Model: \", model_params[\"robust_flag\"])\n",
    "print(\"Flexible Generation: \", model_params[\"flexible_generation\"])\n",
    "print(\"Objective Type:\\t\", model_params[\"set_objective\"], \"\\n\")\n",
    "print(\"Solver Method:\\t\", model_params[\"solver_method\"], \"\\n\")\n",
    "\n",
    "flood_df = model_params[\"input1\"].iloc[:,9:].copy()\n",
    "flood_df_columns = flood_df.columns\n",
    "input1_copy = model_params[\"input1\"].drop(flood_df_columns, axis=1).copy()"
   ]
  },
  {
   "cell_type": "code",
   "execution_count": 3,
   "metadata": {},
   "outputs": [],
   "source": [
    "model_params[\"time_limit\"] = 21600"
   ]
  },
  {
   "cell_type": "markdown",
   "metadata": {},
   "source": [
    "### Wait and see bound calculation"
   ]
  },
  {
   "cell_type": "code",
   "execution_count": 4,
   "metadata": {},
   "outputs": [],
   "source": [
    "# wait_and_see_dict = {}\n",
    "\n",
    "# for budget in budget_vector:\n",
    "#     wait_and_see_dict[budget] = {}\n",
    "\n",
    "# for budget, scenario in itertools.product(budget_vector, flood_df_columns):\n",
    "#     model_params[\"input1\"] = input1_copy.copy()\n",
    "#     model_params[\"input1\"][scenario] = flood_df[scenario]\n",
    "#     base_model = two_stage_model(model_params)\n",
    "#     base_model.model.setParam(\"LogToConsole\", 0)\n",
    "#     base_model.budget_ref.rhs = budget*1e6\n",
    "#     base_model.model.setParam(\"MIPGap\", model_params[\"mip_gap\"])\n",
    "#     base_model.model.setParam(\"TimeLimit\", model_params[\"time_limit\"])\n",
    "#     base_model.model.setParam(\"Method\", model_params[\"solver_method\"])\n",
    "#     base_model.model.optimize()\n",
    "#     wait_and_see_dict[budget][scenario] = base_model.model.objVal\n",
    "\n",
    "# json_object = json.dumps(wait_and_see_dict, indent=4)\n",
    "\n",
    "# with open(\"wait_and_see_dict.json\", \"w\") as outfile:\n",
    "#     outfile.write(json_object)\n",
    "\n",
    "with open('wait_and_see_dict.json', 'r') as openfile:\n",
    "    wait_and_see_dict = json.load(openfile)"
   ]
  },
  {
   "cell_type": "code",
   "execution_count": 5,
   "metadata": {},
   "outputs": [],
   "source": [
    "wait_and_see_bound = {}\n",
    "for i in wait_and_see_dict:\n",
    "    temp = 0\n",
    "    for j in wait_and_see_dict[i]:\n",
    "        temp = temp + wait_and_see_dict[i][j]\n",
    "    temp = temp/len(wait_and_see_dict[i])\n",
    "    wait_and_see_bound[i] = temp"
   ]
  },
  {
   "cell_type": "markdown",
   "metadata": {},
   "source": [
    "### Mean value solution bound"
   ]
  },
  {
   "cell_type": "code",
   "execution_count": 6,
   "metadata": {},
   "outputs": [
    {
     "name": "stderr",
     "output_type": "stream",
     "text": [
      " 11%|█████                                        | 1/9 [00:00<00:07,  1.08it/s]"
     ]
    },
    {
     "name": "stdout",
     "output_type": "stream",
     "text": [
      "Final solution on mean value scenario:\t 59.30672685264403\n"
     ]
    },
    {
     "name": "stderr",
     "output_type": "stream",
     "text": [
      " 22%|██████████                                   | 2/9 [00:09<00:39,  5.68s/it]"
     ]
    },
    {
     "name": "stdout",
     "output_type": "stream",
     "text": [
      "Final solution on mean value scenario:\t 17.197862982814968\n"
     ]
    },
    {
     "name": "stderr",
     "output_type": "stream",
     "text": [
      " 33%|███████████████                              | 3/9 [00:16<00:35,  6.00s/it]"
     ]
    },
    {
     "name": "stdout",
     "output_type": "stream",
     "text": [
      "Final solution on mean value scenario:\t 7.537989999999752\n"
     ]
    },
    {
     "name": "stderr",
     "output_type": "stream",
     "text": [
      " 44%|████████████████████                         | 4/9 [00:24<00:34,  6.88s/it]"
     ]
    },
    {
     "name": "stdout",
     "output_type": "stream",
     "text": [
      "Final solution on mean value scenario:\t 3.414849999999717\n"
     ]
    },
    {
     "name": "stderr",
     "output_type": "stream",
     "text": [
      " 56%|█████████████████████████                    | 5/9 [00:28<00:22,  5.67s/it]"
     ]
    },
    {
     "name": "stdout",
     "output_type": "stream",
     "text": [
      "Final solution on mean value scenario:\t 0.9940498459087053\n"
     ]
    },
    {
     "name": "stderr",
     "output_type": "stream",
     "text": [
      " 67%|██████████████████████████████               | 6/9 [00:29<00:13,  4.37s/it]"
     ]
    },
    {
     "name": "stdout",
     "output_type": "stream",
     "text": [
      "Final solution on mean value scenario:\t 0.0208199999997305\n"
     ]
    },
    {
     "name": "stderr",
     "output_type": "stream",
     "text": [
      " 78%|███████████████████████████████████          | 7/9 [00:32<00:07,  3.63s/it]"
     ]
    },
    {
     "name": "stdout",
     "output_type": "stream",
     "text": [
      "Final solution on mean value scenario:\t -3.410605131648481e-13\n"
     ]
    },
    {
     "name": "stderr",
     "output_type": "stream",
     "text": [
      " 89%|████████████████████████████████████████     | 8/9 [00:34<00:03,  3.15s/it]"
     ]
    },
    {
     "name": "stdout",
     "output_type": "stream",
     "text": [
      "Final solution on mean value scenario:\t -3.410605131648481e-13\n"
     ]
    },
    {
     "name": "stderr",
     "output_type": "stream",
     "text": [
      "100%|█████████████████████████████████████████████| 9/9 [00:36<00:00,  4.02s/it]"
     ]
    },
    {
     "name": "stdout",
     "output_type": "stream",
     "text": [
      "Final solution on mean value scenario:\t -3.410605131648481e-13\n"
     ]
    },
    {
     "name": "stderr",
     "output_type": "stream",
     "text": [
      "\n"
     ]
    }
   ],
   "source": [
    "mean_solution = {}\n",
    "\n",
    "for budget in budget_vector:\n",
    "    mean_solution[budget] = {}\n",
    "\n",
    "for budget in tqdm(budget_vector):    \n",
    "    model_params[\"input1\"] = input1_copy.copy()\n",
    "    model_params[\"input1\"][\"max_mean_value_solution\"] = np.ceil(flood_df.mean(axis=1))\n",
    "    base_model = two_stage_model(model_params)\n",
    "    base_model.model.setParam(\"LogToConsole\", 0)\n",
    "    base_model.budget_ref.rhs = budget*1e6\n",
    "    base_model.model.setParam(\"MIPGap\", model_params[\"mip_gap\"])\n",
    "    base_model.model.setParam(\"TimeLimit\", model_params[\"time_limit\"])\n",
    "    base_model.model.setParam(\"Method\", model_params[\"solver_method\"])\n",
    "    base_model.model.optimize()\n",
    "    print(\"Final solution on mean value scenario:\\t\", base_model.model.objVal)\n",
    "    for substation in base_model.x:\n",
    "        mean_solution[budget][substation] = base_model.x[substation].X"
   ]
  },
  {
   "cell_type": "markdown",
   "metadata": {},
   "source": [
    "### Strategy evaluation for mean value solution"
   ]
  },
  {
   "cell_type": "code",
   "execution_count": 7,
   "metadata": {},
   "outputs": [
    {
     "name": "stderr",
     "output_type": "stream",
     "text": [
      "100%|█████████████████████████████████████████████| 9/9 [00:19<00:00,  2.20s/it]\n"
     ]
    }
   ],
   "source": [
    "mean_value_bound = {}\n",
    "\n",
    "model_params[\"input1\"], model_params[\"input2\"] = prepare_input(model_params[\"path_to_input\"])\n",
    "base_model = two_stage_model(model_params)\n",
    "\n",
    "for budget in tqdm(budget_vector):\n",
    "    base_model.budget_ref.rhs = budget*1e6\n",
    "    temp_constraint =  base_model.model.addConstrs((base_model.x[i] == round(mean_solution[budget][i]) \n",
    "                                                   for i in mean_solution[budget]))\n",
    "    base_model.model.setParam(\"LogToConsole\", 0)\n",
    "    base_model.model.setParam(\"MIPGap\", model_params[\"mip_gap\"])\n",
    "    base_model.model.setParam(\"TimeLimit\", model_params[\"time_limit\"])\n",
    "    base_model.model.setParam(\"Method\", model_params[\"solver_method\"])\n",
    "    base_model.model.optimize()\n",
    "    mean_value_bound[budget] = base_model.model.objVal\n",
    "    base_model.model.remove(temp_constraint)"
   ]
  },
  {
   "cell_type": "markdown",
   "metadata": {},
   "source": [
    "### Stochastic Solution"
   ]
  },
  {
   "cell_type": "code",
   "execution_count": 8,
   "metadata": {},
   "outputs": [],
   "source": [
    "df = pd.read_csv(os.path.dirname(os.getcwd()) + \"/output/sm_\" + str(n_scenario) + \"/stochastic_solution.csv\")\n",
    "stochastic_solution = {}\n",
    "\n",
    "for i in range(df.shape[0]):\n",
    "    stochastic_solution[df.iloc[i,0]] = df.iloc[i,1]"
   ]
  },
  {
   "cell_type": "markdown",
   "metadata": {},
   "source": [
    "## robust solution"
   ]
  },
  {
   "cell_type": "code",
   "execution_count": 9,
   "metadata": {},
   "outputs": [],
   "source": [
    "df_r = pd.read_csv(os.path.dirname(os.getcwd()) + \"/output/rm_\" + str(n_scenario) + \"/robust_solution.csv\")\n",
    "robust_solution = {}\n",
    "\n",
    "for i in range(df_r.shape[0]):\n",
    "    robust_solution[df_r.iloc[i,0]] = df_r.iloc[i,1]"
   ]
  },
  {
   "cell_type": "code",
   "execution_count": 10,
   "metadata": {},
   "outputs": [
    {
     "data": {
      "text/plain": [
       "{0: 56.03,\n",
       " 10: 25.81,\n",
       " 20: 15.7,\n",
       " 30: 9.91,\n",
       " 40: 5.25,\n",
       " 50: 2.53,\n",
       " 60: 0.61,\n",
       " 70: 0.02,\n",
       " 80: 0.0}"
      ]
     },
     "execution_count": 10,
     "metadata": {},
     "output_type": "execute_result"
    }
   ],
   "source": [
    "robust_solution"
   ]
  },
  {
   "cell_type": "code",
   "execution_count": 11,
   "metadata": {},
   "outputs": [
    {
     "data": {
      "text/plain": [
       "{'0': 44.630551457775354,\n",
       " '10': 13.629312844488016,\n",
       " '20': 6.360349639926728,\n",
       " '30': 2.7672237499997117,\n",
       " '40': 0.9433318731221405,\n",
       " '50': 0.18526687498525618,\n",
       " '60': 0.007301249999656534,\n",
       " '70': -3.410605131648481e-13,\n",
       " '80': -3.410605131648481e-13}"
      ]
     },
     "execution_count": 11,
     "metadata": {},
     "output_type": "execute_result"
    }
   ],
   "source": [
    "wait_and_see_bound"
   ]
  },
  {
   "cell_type": "code",
   "execution_count": 12,
   "metadata": {},
   "outputs": [
    {
     "data": {
      "text/plain": [
       "{0: 44.6212503024675,\n",
       " 10: 31.264485225767373,\n",
       " 20: 26.404639287473913,\n",
       " 30: 23.524099505665617,\n",
       " 40: 22.01672661482303,\n",
       " 50: 21.185329993069274,\n",
       " 60: 21.15596718955635,\n",
       " 70: 21.15596715915757,\n",
       " 80: 21.15596715915757}"
      ]
     },
     "execution_count": 12,
     "metadata": {},
     "output_type": "execute_result"
    }
   ],
   "source": [
    "mean_value_bound"
   ]
  },
  {
   "cell_type": "code",
   "execution_count": 13,
   "metadata": {},
   "outputs": [
    {
     "data": {
      "text/plain": [
       "{0: 44.62,\n",
       " 10: 22.2,\n",
       " 20: 13.74,\n",
       " 30: 8.3,\n",
       " 40: 4.79,\n",
       " 50: 2.35,\n",
       " 60: 0.6,\n",
       " 70: 0.02,\n",
       " 80: 0.0}"
      ]
     },
     "execution_count": 13,
     "metadata": {},
     "output_type": "execute_result"
    }
   ],
   "source": [
    "stochastic_solution"
   ]
  },
  {
   "cell_type": "code",
   "execution_count": 18,
   "metadata": {},
   "outputs": [
    {
     "data": {
      "image/png": "[encoded data removed]",
      "text/plain": [
       "<Figure size 288x288 with 1 Axes>"
      ]
     },
     "metadata": {
      "needs_background": "light"
     },
     "output_type": "display_data"
    }
   ],
   "source": [
    "#plt.rcParams['text.usetex'] = True\n",
    "\n",
    "load = model_params[\"input1\"][\"load\"].sum()\n",
    "\n",
    "\n",
    "ss = [x/10 for x in list(stochastic_solution.values())]\n",
    "mvs = [x/10 for x in list(mean_value_bound.values())]\n",
    "was = [x/10 for x in list(wait_and_see_bound.values())]\n",
    "#rs = [x/10 for x in list(robust_solution.values())]\n",
    "\n",
    "plt.figure(figsize=(4,4))\n",
    "plt.plot(budget_vector, mvs, marker='o', label = \"Mean value solution\", color=\"#009e73\")\n",
    "plt.plot(budget_vector, ss, marker='o', label = \"Stochastic solution\", color=\"#0072b2\")\n",
    "#plt.plot(budget_vector, was, marker='o', label = \"Wait-and-see solution\", color=\"#d55e00\")\n",
    "\n",
    "#plt.plot(budget_vector, rs, marker='o', label = \"robust solution\")\n",
    "\n",
    "#plt.set_xticklabels([0,10,20,30,40,50,60,70,71.35])\n",
    "\n",
    "plt.xlabel(\"Budget in Millions ($)\", fontdict={'fontsize': 11})\n",
    "plt.ylabel(\"Load-shed (GW)\", fontdict={'fontsize': 11})\n",
    "plt.legend(loc=1, prop={'size': 11}, frameon=False)\n",
    "plt.ylim(-0.25,5.25)\n",
    "\n",
    "plt.xticks(fontsize=11, rotation=0)\n",
    "plt.yticks(fontsize=11, rotation=0)\n",
    "\n",
    "#plt.savefig(os.path.dirname(os.getcwd()) + \"/output/sm_\" + str(n_scenario) + \"/bounds.eps\", format='eps')\n",
    "\n",
    "plt.savefig(\"/Users/ashutoshshukla/Desktop/bounds.eps\", format='eps')"
   ]
  },
  {
   "cell_type": "code",
   "execution_count": 21,
   "metadata": {},
   "outputs": [
    {
     "data": {
      "image/png": "[encoded data removed]",
      "text/plain": [
       "<Figure size 288x288 with 1 Axes>"
      ]
     },
     "metadata": {
      "needs_background": "light"
     },
     "output_type": "display_data"
    }
   ],
   "source": [
    "#plt.rcParams['text.usetex'] = True\n",
    "\n",
    "load = model_params[\"input1\"][\"load\"].sum()\n",
    "\n",
    "\n",
    "ss = [x/10 for x in list(stochastic_solution.values())]\n",
    "mvs = [x/10 for x in list(mean_value_bound.values())]\n",
    "was = [x/10 for x in list(wait_and_see_bound.values())]\n",
    "#rs = [x/10 for x in list(robust_solution.values())]\n",
    "\n",
    "plt.figure(figsize=(4,4))\n",
    "plt.plot(budget_vector, mvs, marker='o', label = \"Point Forecasts\", color=\"#009e73\")\n",
    "plt.plot(budget_vector, ss, marker='o', label = \"Scenario-based Forecasts\", color=\"#0072b2\")\n",
    "#plt.plot(budget_vector, was, marker='o', label = \"Wait-and-see solution\", color=\"#d55e00\")\n",
    "\n",
    "#plt.plot(budget_vector, rs, marker='o', label = \"robust solution\")\n",
    "\n",
    "#plt.set_xticklabels([0,10,20,30,40,50,60,70,71.35])\n",
    "\n",
    "plt.xlabel(\"Budget in Millions ($)\", fontdict={'fontsize': 11})\n",
    "plt.ylabel(\"Load-shed (GW)\", fontdict={'fontsize': 11})\n",
    "plt.legend(loc=1, prop={'size': 11}, frameon=False)\n",
    "plt.ylim(-0.25,5.25)\n",
    "\n",
    "plt.xticks(fontsize=11, rotation=0)\n",
    "plt.yticks(fontsize=11, rotation=0)\n",
    "\n",
    "#plt.savefig(os.path.dirname(os.getcwd()) + \"/output/sm_\" + str(n_scenario) + \"/bounds.eps\", format='eps')\n",
    "\n",
    "plt.savefig(\"/Users/ashutoshshukla/Desktop/bounds.eps\", format='eps')"
   ]
  },
  {
   "cell_type": "code",
   "execution_count": null,
   "metadata": {},
   "outputs": [],
   "source": [
    "plt.figure(figsize=(6,6))\n",
    "plt.plot(budget_vector, ss, marker='o', label = \"stochastic solution\", color=\"blue\")\n",
    "plt.plot(budget_vector, rs, marker='o', label = \"robust solution\", color=\"k\")\n",
    "\n",
    "plt.xlabel(\"Budget in Millions\", fontdict={'fontsize': 16})\n",
    "plt.ylabel(\"Load-shed in Gw-hr\", fontdict={'fontsize': 16})\n",
    "plt.legend(loc=1, prop={'size': 14})\n",
    "#plt.savefig(os.path.dirname(os.getcwd()) + \"/output/sm_\" + str(n_scenario) + \"/robust_bounds.eps\", format='eps')"
   ]
  },
  {
   "cell_type": "code",
   "execution_count": null,
   "metadata": {},
   "outputs": [],
   "source": []
  }
 ],
 "metadata": {
  "kernelspec": {
   "display_name": "Python 3 (ipykernel)",
   "language": "python",
   "name": "python3"
  },
  "language_info": {
   "codemirror_mode": {
    "name": "ipython",
    "version": 3
   },
   "file_extension": ".py",
   "mimetype": "text/x-python",
   "name": "python",
   "nbconvert_exporter": "python",
   "pygments_lexer": "ipython3",
   "version": "3.9.9"
  }
 },
 "nbformat": 4,
 "nbformat_minor": 4
}
